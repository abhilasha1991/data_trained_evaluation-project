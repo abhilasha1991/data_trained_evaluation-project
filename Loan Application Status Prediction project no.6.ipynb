{
 "cells": [
  {
   "cell_type": "markdown",
   "id": "ad3b0600",
   "metadata": {},
   "source": [
    "# Loan Application Status Prediction\n",
    "Problem Statement:\n",
    "This dataset includes details of applicants who have applied for loan. The dataset includes details like credit history, loan amount, their income, dependents etc. \n",
    "\n",
    "Independent Variables:\n",
    "\n",
    "- Loan_ID\n",
    "\n",
    "- Gender\n",
    "\n",
    "- Married\n",
    "\n",
    "- Dependents\n",
    "\n",
    "- Education\n",
    "\n",
    "- Self_Employed\n",
    "\n",
    "- ApplicantIncome\n",
    "\n",
    "- CoapplicantIncome\n",
    "\n",
    "- Loan_Amount\n",
    "\n",
    "- Loan_Amount_Term\n",
    "\n",
    "- Credit History\n",
    "\n",
    "- Property_Area\n",
    "\n",
    "Dependent Variable (Target Variable):\n",
    "\n",
    "- Loan_Status\n",
    "\n",
    "You have to build a model that can predict whether the loan of the applicant will be approved or not on the basis of the details provided in the dataset. "
   ]
  },
  {
   "cell_type": "code",
   "execution_count": null,
   "id": "853b63dc",
   "metadata": {},
   "outputs": [],
   "source": [
    "#importing essential libraries\n",
    "\n",
    "import pandas as pd \n",
    "import numpy as np\n",
    "import matplotlib.pyplot as plt\n",
    "import seaborn as sns\n",
    "from sklearn.model_selection import train_test_split,GridSearchCV,cross_val_score\n",
    "from sklearn.preprocessing import StandardScaler,MinMaxScaler,power_transform\n",
    "from sklearn.linear_model import LinearRegression,LogisticRegression\n",
    "from sklearn.metrics import r2_score, mean_squared_error,accuracy_score,roc_auc_score,roc_curve,confusion_matrix,classification_report\n",
    "from sklearn.neighbors import KNeighborsClassifier\n",
    "from sklearn.ensemble import AdaBoostRegressor,GradientBoostingClassifier\n",
    "import warnings\n",
    "warnings.filterwarnings('ignore')\n",
    "from sklearn import preprocessing\n",
    "import scipy.stats as stats\n",
    "from scipy.stats import zscore\n",
    "from sklearn.svm import SVC\n",
    "from sklearn.tree import DecisionTreeClassifier\n",
    "from sklearn.naive_bayes import MultinomialNB\n",
    "  "
   ]
  },
  {
   "cell_type": "code",
   "execution_count": null,
   "id": "20c9e3b5",
   "metadata": {},
   "outputs": [],
   "source": [
    "df=pd.read_csv('https://raw.githubusercontent.com/dsrscientist/DSData/master/loan_prediction.csv')"
   ]
  },
  {
   "cell_type": "code",
   "execution_count": null,
   "id": "a54e11ce",
   "metadata": {},
   "outputs": [],
   "source": [
    "df"
   ]
  },
  {
   "cell_type": "code",
   "execution_count": null,
   "id": "d5a8eef4",
   "metadata": {},
   "outputs": [],
   "source": [
    "df.info()"
   ]
  },
  {
   "cell_type": "code",
   "execution_count": null,
   "id": "ae048c76",
   "metadata": {},
   "outputs": [],
   "source": [
    "df.sample(4)"
   ]
  },
  {
   "cell_type": "code",
   "execution_count": null,
   "id": "e445f2cb",
   "metadata": {},
   "outputs": [],
   "source": [
    "df.head()"
   ]
  },
  {
   "cell_type": "code",
   "execution_count": null,
   "id": "6120dd9e",
   "metadata": {},
   "outputs": [],
   "source": [
    "type(df)"
   ]
  },
  {
   "cell_type": "code",
   "execution_count": null,
   "id": "2e920f24",
   "metadata": {},
   "outputs": [],
   "source": [
    "df.columns"
   ]
  },
  {
   "cell_type": "code",
   "execution_count": null,
   "id": "5672d052",
   "metadata": {},
   "outputs": [],
   "source": [
    "type(df.columns)"
   ]
  },
  {
   "cell_type": "markdown",
   "id": "0827b135",
   "metadata": {},
   "source": [
    "## Check duplicates:"
   ]
  },
  {
   "cell_type": "code",
   "execution_count": null,
   "id": "9e997a9f",
   "metadata": {},
   "outputs": [],
   "source": [
    "df.duplicated()"
   ]
  },
  {
   "cell_type": "code",
   "execution_count": null,
   "id": "c8d3fbd8",
   "metadata": {},
   "outputs": [],
   "source": [
    "df.duplicated().values.any()"
   ]
  },
  {
   "cell_type": "markdown",
   "id": "f10df6d3",
   "metadata": {},
   "source": [
    "## Check null values:"
   ]
  },
  {
   "cell_type": "code",
   "execution_count": null,
   "id": "f7ffa197",
   "metadata": {},
   "outputs": [],
   "source": [
    "df.isnull()"
   ]
  },
  {
   "cell_type": "code",
   "execution_count": null,
   "id": "d5a27cbc",
   "metadata": {},
   "outputs": [],
   "source": [
    "df.isnull().sum().sum()"
   ]
  },
  {
   "cell_type": "code",
   "execution_count": null,
   "id": "26abf325",
   "metadata": {},
   "outputs": [],
   "source": [
    "df.isnull().sum()"
   ]
  },
  {
   "cell_type": "code",
   "execution_count": null,
   "id": "5b90c017",
   "metadata": {},
   "outputs": [],
   "source": [
    "df.info()"
   ]
  },
  {
   "cell_type": "code",
   "execution_count": null,
   "id": "9ebd4b4a",
   "metadata": {},
   "outputs": [],
   "source": [
    "plt.figure(figsize=(15,8))\n",
    "sns.heatmap(df.isnull())"
   ]
  },
  {
   "cell_type": "markdown",
   "id": "b75f04fe",
   "metadata": {},
   "source": [
    "##### total 149 null values are present"
   ]
  },
  {
   "cell_type": "markdown",
   "id": "1c4ec7a7",
   "metadata": {},
   "source": [
    "## Imputation:"
   ]
  },
  {
   "cell_type": "code",
   "execution_count": null,
   "id": "840dd1bd",
   "metadata": {},
   "outputs": [],
   "source": [
    "df.info()"
   ]
  },
  {
   "cell_type": "code",
   "execution_count": null,
   "id": "da9d1767",
   "metadata": {},
   "outputs": [],
   "source": [
    "df['Self_Employed'].unique()"
   ]
  },
  {
   "cell_type": "code",
   "execution_count": null,
   "id": "2bddfd12",
   "metadata": {},
   "outputs": [],
   "source": [
    "df['Gender'].fillna('missing',inplace=True)\n",
    "df['Married'].fillna('missing',inplace=True)\n",
    "df['Self_Employed'].fillna('-',inplace=True)\n",
    "df['LoanAmount'].fillna(df['LoanAmount'].mean(),inplace=True)\n",
    "df['Loan_Amount_Term'].fillna(df['Loan_Amount_Term'].mean(),inplace=True)\n",
    "df['Credit_History'].fillna(df['Credit_History'].mean(),inplace=True)\n",
    "df['Dependents'].fillna('-',inplace=True)"
   ]
  },
  {
   "cell_type": "code",
   "execution_count": null,
   "id": "47b05d71",
   "metadata": {},
   "outputs": [],
   "source": [
    "df.isnull().sum()"
   ]
  },
  {
   "cell_type": "code",
   "execution_count": null,
   "id": "a4012db6",
   "metadata": {},
   "outputs": [],
   "source": [
    "df"
   ]
  },
  {
   "cell_type": "markdown",
   "id": "c89440ad",
   "metadata": {},
   "source": [
    "## Visualisation:"
   ]
  },
  {
   "cell_type": "markdown",
   "id": "97602eac",
   "metadata": {},
   "source": [
    "#### lineplot to understand the data by visualisation:"
   ]
  },
  {
   "cell_type": "code",
   "execution_count": null,
   "id": "74930417",
   "metadata": {},
   "outputs": [],
   "source": []
  },
  {
   "cell_type": "code",
   "execution_count": null,
   "id": "1fcdcacc",
   "metadata": {},
   "outputs": [],
   "source": [
    "for i in df.columns[0:]:\n",
    "    plt.figure()\n",
    "    sns.lineplot(x=df[i],y='Loan_Status',data=df)"
   ]
  },
  {
   "cell_type": "markdown",
   "id": "1c448f06",
   "metadata": {},
   "source": [
    "##### As we can visualise that,the males are taking more loans than women but the difference is not so much varies.\n",
    "Married are taking more loan than unmarried.\n",
    "dependence of two persons are shows high peak.\n",
    "since Graduate are taking more loan than ungraduate.\n",
    "loan status does not showa variation in whether the employee or self employed.\n",
    "Around 4000 to 7000 approximately applications are came for loan.\n",
    "Loan amount shows constant while for 400 to 500 ande 600  to 700.\n",
    "loan amount term shows high peak in between 50 to 150.\n",
    "credit history is more needed.\n",
    "semiurban shows high peak for loan status.\n"
   ]
  },
  {
   "cell_type": "code",
   "execution_count": null,
   "id": "5d0001d5",
   "metadata": {},
   "outputs": [],
   "source": [
    "plt.pie(df['Loan_Status'].value_counts().values,labels=df['Loan_Status'].value_counts().index,autopct='%1.2f%%',explode=(.15,0))"
   ]
  },
  {
   "cell_type": "code",
   "execution_count": null,
   "id": "d7f01109",
   "metadata": {},
   "outputs": [],
   "source": [
    "\n",
    "plt.pie(df['Self_Employed'].value_counts().values,labels=df['Self_Employed'].value_counts().index,autopct='%1.2f%%')"
   ]
  },
  {
   "cell_type": "code",
   "execution_count": null,
   "id": "fe68dd69",
   "metadata": {},
   "outputs": [],
   "source": [
    "plt.pie(df['Education'].value_counts().values,labels=df['Education'].value_counts().index,autopct='%1.2f%%')"
   ]
  },
  {
   "cell_type": "markdown",
   "id": "435beafd",
   "metadata": {},
   "source": [
    "##### since we can see that no. of percentages of graduates are high than than non graduate for applying the loan. "
   ]
  },
  {
   "cell_type": "code",
   "execution_count": null,
   "id": "f17fe69f",
   "metadata": {},
   "outputs": [],
   "source": [
    "plt.pie(df['Gender'].value_counts().values,labels=df['Gender'].value_counts().index,autopct='%1.2f%%')"
   ]
  },
  {
   "cell_type": "markdown",
   "id": "f4efb647",
   "metadata": {},
   "source": [
    "##### Percentage for female for applying the laon are less than male"
   ]
  },
  {
   "cell_type": "code",
   "execution_count": null,
   "id": "db799c80",
   "metadata": {},
   "outputs": [],
   "source": [
    "plt.pie(df['Married'].value_counts().values,labels=df['Married'].value_counts().index,autopct='%1.2f%%')"
   ]
  },
  {
   "cell_type": "markdown",
   "id": "0cade603",
   "metadata": {},
   "source": [
    "##### no. of percentage of taking loan of Married are more than non Married"
   ]
  },
  {
   "cell_type": "code",
   "execution_count": null,
   "id": "53b2df35",
   "metadata": {},
   "outputs": [],
   "source": [
    "df.hist(figsize=(20,20,),grid=True,layout=(4,5),bins=10)"
   ]
  },
  {
   "cell_type": "markdown",
   "id": "d08a90b7",
   "metadata": {},
   "source": [
    "## Encoding:"
   ]
  },
  {
   "cell_type": "code",
   "execution_count": null,
   "id": "71efc768",
   "metadata": {},
   "outputs": [],
   "source": [
    "df['Gender'].replace('Female',1,inplace=True)\n",
    "df['Gender'].replace('Male',2,inplace=True)"
   ]
  },
  {
   "cell_type": "code",
   "execution_count": null,
   "id": "c1695439",
   "metadata": {},
   "outputs": [],
   "source": [
    "df['Gender'].unique()"
   ]
  },
  {
   "cell_type": "code",
   "execution_count": null,
   "id": "075adaae",
   "metadata": {},
   "outputs": [],
   "source": [
    "df['Gender'].replace('-', 0,inplace=True)"
   ]
  },
  {
   "cell_type": "code",
   "execution_count": null,
   "id": "1c86bf16",
   "metadata": {},
   "outputs": [],
   "source": [
    "df['Married'].replace('No',1,inplace=True)\n",
    "df['Married'].replace('Yes',2,inplace=True)\n",
    "df['Married'].replace('missing',0,inplace=True)"
   ]
  },
  {
   "cell_type": "code",
   "execution_count": null,
   "id": "8617d3d2",
   "metadata": {},
   "outputs": [],
   "source": [
    "df['Education'].replace('Graduate',1,inplace=True)\n",
    "df['Education'].replace('Not Graduate',2,inplace=True)\n"
   ]
  },
  {
   "cell_type": "code",
   "execution_count": null,
   "id": "bf8ba7c3",
   "metadata": {},
   "outputs": [],
   "source": [
    "df['Self_Employed'].replace('No',1,inplace=True)\n",
    "df['Self_Employed'].replace('Yes',2,inplace=True)\n",
    "df['Self_Employed'].replace('-',0,inplace=True)\n"
   ]
  },
  {
   "cell_type": "code",
   "execution_count": null,
   "id": "be5d2994",
   "metadata": {},
   "outputs": [],
   "source": [
    "df['Loan_Status'].replace('Y',2,inplace=True)\n",
    "df['Loan_Status'].replace('N',1,inplace=True)\n",
    "df['Loan_Status'].unique()"
   ]
  },
  {
   "cell_type": "code",
   "execution_count": null,
   "id": "8c50ab81",
   "metadata": {},
   "outputs": [],
   "source": [
    "df['Property_Area'].replace('Semiurban',1,inplace=True)\n",
    "df['Property_Area'].replace('Rural',3,inplace=True)\n",
    "df['Property_Area'].replace('Urban',2,inplace=True)\n",
    "df['Property_Area'].unique()"
   ]
  },
  {
   "cell_type": "code",
   "execution_count": null,
   "id": "109a4f6f",
   "metadata": {},
   "outputs": [],
   "source": [
    "df['Dependents'].replace('-',0,inplace=True)"
   ]
  },
  {
   "cell_type": "code",
   "execution_count": null,
   "id": "11ab0e63",
   "metadata": {},
   "outputs": [],
   "source": [
    "df.info()"
   ]
  },
  {
   "cell_type": "code",
   "execution_count": null,
   "id": "ff456f32",
   "metadata": {},
   "outputs": [],
   "source": [
    "df.sample(8)"
   ]
  },
  {
   "cell_type": "code",
   "execution_count": null,
   "id": "4cb2a268",
   "metadata": {},
   "outputs": [],
   "source": [
    "\n",
    "df.sample(8)"
   ]
  },
  {
   "cell_type": "code",
   "execution_count": null,
   "id": "8acb1d23",
   "metadata": {},
   "outputs": [],
   "source": [
    "df['Dependents'].replace('3+',3,inplace=True)\n",
    "df['Dependents'].unique()"
   ]
  },
  {
   "cell_type": "code",
   "execution_count": null,
   "id": "6110b44d",
   "metadata": {},
   "outputs": [],
   "source": [
    "df.astype(int)"
   ]
  },
  {
   "cell_type": "code",
   "execution_count": null,
   "id": "f4f0e164",
   "metadata": {},
   "outputs": [],
   "source": [
    "df.info()"
   ]
  },
  {
   "cell_type": "markdown",
   "id": "5826f7d9",
   "metadata": {},
   "source": [
    "## Correlation:"
   ]
  },
  {
   "cell_type": "code",
   "execution_count": null,
   "id": "15c9393b",
   "metadata": {},
   "outputs": [],
   "source": [
    "df.corr()"
   ]
  },
  {
   "cell_type": "code",
   "execution_count": null,
   "id": "3665fcc7",
   "metadata": {},
   "outputs": [],
   "source": [
    "plt.figure(figsize=(15,7))\n",
    "sns.heatmap(df.corr(),annot=True,linewidths=0.5,linecolor='black',fmt='.2f')"
   ]
  },
  {
   "cell_type": "code",
   "execution_count": null,
   "id": "1898439b",
   "metadata": {},
   "outputs": [],
   "source": [
    "df.describe()"
   ]
  },
  {
   "cell_type": "code",
   "execution_count": null,
   "id": "7af31ad0",
   "metadata": {},
   "outputs": [],
   "source": [
    "round(df.describe().transpose(),2)"
   ]
  },
  {
   "cell_type": "code",
   "execution_count": null,
   "id": "3c7b0b94",
   "metadata": {},
   "outputs": [],
   "source": [
    "plt.figure(figsize=(15,12))\n",
    "sns.heatmap(round(df.describe().transpose(),2),linewidth=2,annot=True,fmt=\"f\")\n",
    "\n",
    "plt.savefig('heatmap.png')\n",
    "plt.show()"
   ]
  },
  {
   "cell_type": "code",
   "execution_count": null,
   "id": "cf3411fe",
   "metadata": {},
   "outputs": [],
   "source": [
    "df.corr()['Loan_Status'].sort_values()"
   ]
  },
  {
   "cell_type": "markdown",
   "id": "b5f2295d",
   "metadata": {},
   "source": [
    "## distribution curve:"
   ]
  },
  {
   "cell_type": "code",
   "execution_count": null,
   "id": "b3d329b2",
   "metadata": {},
   "outputs": [],
   "source": [
    "for i in df.columns[0:17]:\n",
    "    plt.figure()\n",
    "    sns.distplot( df[i])"
   ]
  },
  {
   "cell_type": "markdown",
   "id": "d495b3de",
   "metadata": {},
   "source": [
    "##### distribution curve is shows the skewness of the data."
   ]
  },
  {
   "cell_type": "code",
   "execution_count": null,
   "id": "0cc0ae76",
   "metadata": {},
   "outputs": [],
   "source": [
    "df.skew"
   ]
  },
  {
   "cell_type": "markdown",
   "id": "8c8c6d3a",
   "metadata": {},
   "source": [
    "## outliers:"
   ]
  },
  {
   "cell_type": "code",
   "execution_count": null,
   "id": "f0eca0a0",
   "metadata": {},
   "outputs": [],
   "source": [
    "df.plot(kind='box', subplots=True, layout=(15,5),figsize=(20,70))"
   ]
  },
  {
   "cell_type": "markdown",
   "id": "a926a614",
   "metadata": {},
   "source": [
    "## Variables:"
   ]
  },
  {
   "cell_type": "code",
   "execution_count": null,
   "id": "1d4bc377",
   "metadata": {},
   "outputs": [],
   "source": [
    "x=df.drop(columns=['Loan_Status'],axis=1)\n",
    "y=df['Loan_Status']\n"
   ]
  },
  {
   "cell_type": "code",
   "execution_count": null,
   "id": "4888e85d",
   "metadata": {},
   "outputs": [],
   "source": [
    "x.shape,y.shape"
   ]
  },
  {
   "cell_type": "code",
   "execution_count": null,
   "id": "584c6295",
   "metadata": {},
   "outputs": [],
   "source": []
  },
  {
   "cell_type": "code",
   "execution_count": null,
   "id": "f143dc22",
   "metadata": {},
   "outputs": [],
   "source": []
  },
  {
   "cell_type": "markdown",
   "id": "fde73c04",
   "metadata": {},
   "source": [
    "## Transformation of data to remove skewness:"
   ]
  },
  {
   "cell_type": "code",
   "execution_count": null,
   "id": "f6f70c31",
   "metadata": {},
   "outputs": [],
   "source": [
    "x=power_transform(x,method='yeo-johnson')\n"
   ]
  },
  {
   "cell_type": "code",
   "execution_count": null,
   "id": "08b69fa7",
   "metadata": {},
   "outputs": [],
   "source": [
    "type(x)"
   ]
  },
  {
   "cell_type": "code",
   "execution_count": null,
   "id": "6ac6ca29",
   "metadata": {},
   "outputs": [],
   "source": [
    "x.ndim"
   ]
  },
  {
   "cell_type": "code",
   "execution_count": null,
   "id": "9c0a0350",
   "metadata": {},
   "outputs": [],
   "source": [
    "sc=StandardScaler()\n",
    "x=sc.fit_transform(x)\n",
    "x"
   ]
  },
  {
   "cell_type": "code",
   "execution_count": null,
   "id": "13ab3f55",
   "metadata": {},
   "outputs": [],
   "source": [
    "x.mean()"
   ]
  },
  {
   "cell_type": "code",
   "execution_count": null,
   "id": "cb06761d",
   "metadata": {},
   "outputs": [],
   "source": [
    "x.std()"
   ]
  },
  {
   "cell_type": "code",
   "execution_count": null,
   "id": "93688db3",
   "metadata": {},
   "outputs": [],
   "source": [
    "df.Loan_Status.value_counts()"
   ]
  },
  {
   "cell_type": "code",
   "execution_count": null,
   "id": "bf3af670",
   "metadata": {},
   "outputs": [],
   "source": [
    "x_train,x_test,y_train,y_test =  train_test_split(x,y, test_size =0.25,random_state=100)"
   ]
  },
  {
   "cell_type": "code",
   "execution_count": null,
   "id": "6417eb7b",
   "metadata": {},
   "outputs": [],
   "source": [
    "x_train.shape"
   ]
  },
  {
   "cell_type": "code",
   "execution_count": null,
   "id": "1f795ebd",
   "metadata": {},
   "outputs": [],
   "source": [
    "y_train.shape"
   ]
  },
  {
   "cell_type": "code",
   "execution_count": null,
   "id": "e32a8ecf",
   "metadata": {},
   "outputs": [],
   "source": [
    "x_test.shape"
   ]
  },
  {
   "cell_type": "code",
   "execution_count": null,
   "id": "3307ebfb",
   "metadata": {},
   "outputs": [],
   "source": [
    "y_test.shape"
   ]
  },
  {
   "cell_type": "markdown",
   "id": "50dc59ca",
   "metadata": {},
   "source": [
    "# model building:"
   ]
  },
  {
   "cell_type": "markdown",
   "id": "8e1755f5",
   "metadata": {},
   "source": [
    "## Regression:"
   ]
  },
  {
   "cell_type": "code",
   "execution_count": null,
   "id": "c82d5b4e",
   "metadata": {},
   "outputs": [],
   "source": [
    "ada=AdaBoostRegressor()\n",
    "ada.fit(x_test,y_test)"
   ]
  },
  {
   "cell_type": "code",
   "execution_count": null,
   "id": "1036650f",
   "metadata": {},
   "outputs": [],
   "source": [
    "y_pred=ada.predict(x_test)\n",
    "y_pred.shape"
   ]
  },
  {
   "cell_type": "code",
   "execution_count": null,
   "id": "61e122e3",
   "metadata": {},
   "outputs": [],
   "source": [
    "from sklearn.metrics import r2_score, mean_squared_error,accuracy_score\n",
    "import sklearn.metrics as metrics\n",
    "accuracy=metrics.r2_score(y_test,y_pred)\n",
    "print('R square score',accuracy)"
   ]
  },
  {
   "cell_type": "code",
   "execution_count": null,
   "id": "5db67c6d",
   "metadata": {},
   "outputs": [],
   "source": [
    "LR=LinearRegression()\n",
    "LR.fit(x_test,y_test)\n",
    "y_pred=LR.predict(x_test)\n",
    "y_pred.shape"
   ]
  },
  {
   "cell_type": "code",
   "execution_count": null,
   "id": "490ee8ce",
   "metadata": {},
   "outputs": [],
   "source": [
    "from sklearn.metrics import r2_score, mean_squared_error,accuracy_score\n",
    "import sklearn.metrics as metrics\n",
    "accuracy=metrics.r2_score(y_test,y_pred)\n",
    "print('R square score',accuracy)"
   ]
  },
  {
   "cell_type": "markdown",
   "id": "4d600808",
   "metadata": {},
   "source": [
    "## Classifier:"
   ]
  },
  {
   "cell_type": "code",
   "execution_count": null,
   "id": "6b9bdb47",
   "metadata": {},
   "outputs": [],
   "source": [
    "from sklearn.linear_model import RidgeClassifier\n",
    "from sklearn.tree import DecisionTreeClassifier\n",
    "from sklearn.svm import SVC\n",
    "from sklearn.ensemble import AdaBoostClassifier\n",
    "from sklearn.ensemble import GradientBoostingClassifier\n",
    "\n",
    "\n",
    "from sklearn.metrics import classification_report\n",
    "RD_model= RidgeClassifier()\n",
    "DT_model= DecisionTreeClassifier()\n",
    "SV_model= SVC()\n",
    "KNR_model= KNeighborsClassifier()\n",
    "ADA_model=AdaBoostClassifier()\n",
    "GB_model= GradientBoostingClassifier()\n",
    "\n",
    "model=[RD_model,DT_model,SV_model,KNR_model,ADA_model,GB_model ]"
   ]
  },
  {
   "cell_type": "code",
   "execution_count": null,
   "id": "2ff4f283",
   "metadata": {},
   "outputs": [],
   "source": [
    "for m in model:\n",
    "    m.fit(x_train,y_train)\n",
    "    m.score(x_train,y_train)\n",
    "    pred= m.predict(x_test)\n",
    "    print('Accuracy_Score of ',m, 'is', accuracy_score(y_test,pred)*100)\n",
    "    print('Confusion Matrix of ',m,' is \\n', confusion_matrix(y_test,pred) )\n",
    "    print(classification_report(y_test,pred))\n",
    "    print('*'*50)"
   ]
  },
  {
   "cell_type": "markdown",
   "id": "6a155c75",
   "metadata": {},
   "source": [
    "## CrossValidation:"
   ]
  },
  {
   "cell_type": "code",
   "execution_count": null,
   "id": "d4d0cd29",
   "metadata": {},
   "outputs": [],
   "source": [
    "from sklearn.model_selection import cross_val_score\n",
    "for i in model:\n",
    "    print('Accuracy_Score of ',i, 'is', accuracy_score(y_test,i.predict(x_test))*100)\n",
    "    print(\"cross Validation accuracy score of \",i ,\" is \",cross_val_score(i,x,y,cv=5, scoring='accuracy').mean()*100)\n",
    "    print('*'*50)"
   ]
  },
  {
   "cell_type": "raw",
   "id": "20910be3",
   "metadata": {},
   "source": []
  },
  {
   "cell_type": "markdown",
   "id": "624dc47d",
   "metadata": {},
   "source": [
    "## Gridsearch:"
   ]
  },
  {
   "cell_type": "code",
   "execution_count": null,
   "id": "6ee920db",
   "metadata": {},
   "outputs": [],
   "source": [
    "#Checking the best parameter for prediction of KNeighborsClassifier Algo using Gridsearchcv\n",
    "x_train,x_test, y_train, y_test=train_test_split(x,y, random_state = 100, test_size = 0.33)\n",
    "\n",
    "KNC = KNeighborsClassifier()\n",
    "parameters={'n_neighbors':range(1,30)}\n",
    "gridsearch=GridSearchCV(KNC,parameters)\n",
    "gridsearch.fit(x_train, y_train)\n",
    "gridsearch.best_params_\n"
   ]
  },
  {
   "cell_type": "code",
   "execution_count": null,
   "id": "82a0d9a9",
   "metadata": {},
   "outputs": [],
   "source": [
    "GCV_pred=gridsearch.best_estimator_.predict(x_test)\n",
    "accuracy_score(y_test,GCV_pred)"
   ]
  },
  {
   "cell_type": "markdown",
   "id": "1b2943ba",
   "metadata": {},
   "source": [
    "## ROC AUC curve:"
   ]
  },
  {
   "cell_type": "code",
   "execution_count": null,
   "id": "0c18c8a0",
   "metadata": {},
   "outputs": [],
   "source": [
    "from sklearn.metrics import roc_auc_score,roc_curve,plot_roc_curve\n",
    "\n",
    "plot_roc_curve(gridsearch.best_estimator_,x_test,y_test)\n",
    "plt.title('ROC AUC Plot')\n",
    "plt.show()"
   ]
  },
  {
   "cell_type": "markdown",
   "id": "ec0782bd",
   "metadata": {},
   "source": [
    "## Conclusion:"
   ]
  },
  {
   "cell_type": "markdown",
   "id": "63f66ebd",
   "metadata": {},
   "source": [
    "###### Amazingly classification model worked better than all other Ensemble models. The accuracy score RidgeClassifier()  is  79.48287351725976"
   ]
  }
 ],
 "metadata": {
  "kernelspec": {
   "display_name": "Python 3 (ipykernel)",
   "language": "python",
   "name": "python3"
  },
  "language_info": {
   "codemirror_mode": {
    "name": "ipython",
    "version": 3
   },
   "file_extension": ".py",
   "mimetype": "text/x-python",
   "name": "python",
   "nbconvert_exporter": "python",
   "pygments_lexer": "ipython3",
   "version": "3.9.7"
  }
 },
 "nbformat": 4,
 "nbformat_minor": 5
}
